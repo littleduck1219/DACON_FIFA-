{
 "cells": [
  {
   "cell_type": "markdown",
   "id": "c65c529f",
   "metadata": {},
   "source": [
    "# FIFA 선수 이적료 예측 경진대회\n",
    "\n",
    "### FIFA_train.csv / FIFA_test.csv\n",
    "id : 선수 고유의 아이디\\\n",
    "name : 이름\\\n",
    "age : 나이\\\n",
    "continent : 선수들의 국적이 포함되어 있는 대륙입니다\\\n",
    "contract_until : 선수의 계약기간이 언제까지인지 나타내어 줍니다\\\n",
    "position : 선수가 선호하는 포지션입니다. ex) 공격수, 수비수 등\\\n",
    "prefer_foot : 선수가 선호하는 발입니다. ex) 오른발\\\n",
    "reputation : 선수가 유명한 정도입니다. ex) 높은 수치일 수록 유명한 선수\\\n",
    "stat_overall : 선수의 현재 능력치 입니다.\\\n",
    "stat_potential : 선수가 경험 및 노력을 통해 발전할 수 있는 정도입니다.\\\n",
    "stat_skill_moves : 선수의 개인기 능력치 입니다.\\\n",
    "value : FIFA가 선정한 선수의 이적 시장 가격 (단위 : 유로) 입니다\\\n",
    "\n",
    "\n",
    "### submission.csv (제출 파일 형식)\n",
    "id : 선수 고유의 아이디\\\n",
    "value : 예측된 선수 이적 시장 가격을 기입\n"
   ]
  },
  {
   "cell_type": "code",
   "execution_count": 1,
   "id": "59875412",
   "metadata": {},
   "outputs": [],
   "source": [
    "import numpy as np\n",
    "import pandas as pd\n",
    "import matplotlib.pyplot as plt\n",
    "import seaborn as sns\n",
    "from sklearn.preprocessing import LabelEncoder\n",
    "from sklearn.model_selection import train_test_split\n",
    "from sklearn.preprocessing import StandardScaler\n",
    "from sklearn.tree import DecisionTreeRegressor\n",
    "from sklearn.metrics import r2_score"
   ]
  },
  {
   "cell_type": "markdown",
   "id": "aa77ec6c",
   "metadata": {},
   "source": [
    "## 1.데이터 로드 및 정보 확인"
   ]
  },
  {
   "cell_type": "markdown",
   "id": "a2c8401e",
   "metadata": {},
   "source": [
    "1. 데이터 로드"
   ]
  },
  {
   "cell_type": "code",
   "execution_count": 2,
   "id": "17bf7d98",
   "metadata": {},
   "outputs": [],
   "source": [
    "train = pd.read_csv(\"./FIFA_train.csv\")\n",
    "test = pd.read_csv(\"./FIFA_test.csv\")\n",
    "submission = pd.read_csv(\"./submission.csv\")"
   ]
  },
  {
   "cell_type": "markdown",
   "id": "7c527b9d",
   "metadata": {},
   "source": [
    "2. 데이터 정보 확인"
   ]
  },
  {
   "cell_type": "code",
   "execution_count": 3,
   "id": "987b678a",
   "metadata": {},
   "outputs": [
    {
     "name": "stdout",
     "output_type": "stream",
     "text": [
      "<class 'pandas.core.frame.DataFrame'>\n",
      "RangeIndex: 8932 entries, 0 to 8931\n",
      "Data columns (total 12 columns):\n",
      " #   Column            Non-Null Count  Dtype  \n",
      "---  ------            --------------  -----  \n",
      " 0   id                8932 non-null   int64  \n",
      " 1   name              8932 non-null   object \n",
      " 2   age               8932 non-null   int64  \n",
      " 3   continent         8932 non-null   object \n",
      " 4   contract_until    8932 non-null   object \n",
      " 5   position          8932 non-null   object \n",
      " 6   prefer_foot       8932 non-null   object \n",
      " 7   reputation        8932 non-null   float64\n",
      " 8   stat_overall      8932 non-null   int64  \n",
      " 9   stat_potential    8932 non-null   int64  \n",
      " 10  stat_skill_moves  8932 non-null   float64\n",
      " 11  value             8932 non-null   float64\n",
      "dtypes: float64(3), int64(4), object(5)\n",
      "memory usage: 837.5+ KB\n"
     ]
    }
   ],
   "source": [
    "train.info()"
   ]
  },
  {
   "cell_type": "code",
   "execution_count": 4,
   "id": "93d6db35",
   "metadata": {
    "scrolled": false
   },
   "outputs": [
    {
     "name": "stdout",
     "output_type": "stream",
     "text": [
      "<class 'pandas.core.frame.DataFrame'>\n",
      "RangeIndex: 3828 entries, 0 to 3827\n",
      "Data columns (total 11 columns):\n",
      " #   Column            Non-Null Count  Dtype  \n",
      "---  ------            --------------  -----  \n",
      " 0   id                3828 non-null   int64  \n",
      " 1   name              3828 non-null   object \n",
      " 2   age               3828 non-null   int64  \n",
      " 3   continent         3828 non-null   object \n",
      " 4   contract_until    3828 non-null   object \n",
      " 5   position          3828 non-null   object \n",
      " 6   prefer_foot       3828 non-null   object \n",
      " 7   reputation        3828 non-null   float64\n",
      " 8   stat_overall      3828 non-null   int64  \n",
      " 9   stat_potential    3828 non-null   int64  \n",
      " 10  stat_skill_moves  3828 non-null   float64\n",
      "dtypes: float64(2), int64(4), object(5)\n",
      "memory usage: 329.1+ KB\n"
     ]
    }
   ],
   "source": [
    "test.info()"
   ]
  },
  {
   "cell_type": "markdown",
   "id": "968177f7",
   "metadata": {},
   "source": [
    "3. null 값 확인"
   ]
  },
  {
   "cell_type": "code",
   "execution_count": 5,
   "id": "e9b247cc",
   "metadata": {},
   "outputs": [
    {
     "data": {
      "text/plain": [
       "id                  0\n",
       "name                0\n",
       "age                 0\n",
       "continent           0\n",
       "contract_until      0\n",
       "position            0\n",
       "prefer_foot         0\n",
       "reputation          0\n",
       "stat_overall        0\n",
       "stat_potential      0\n",
       "stat_skill_moves    0\n",
       "value               0\n",
       "dtype: int64"
      ]
     },
     "execution_count": 5,
     "metadata": {},
     "output_type": "execute_result"
    }
   ],
   "source": [
    "train.isnull().sum()"
   ]
  },
  {
   "cell_type": "markdown",
   "id": "76909e82",
   "metadata": {},
   "source": [
    "## 2.데이터 전처리"
   ]
  },
  {
   "cell_type": "markdown",
   "id": "b6a0abc5",
   "metadata": {},
   "source": [
    "1. 필요없는 데이터 삭제"
   ]
  },
  {
   "cell_type": "code",
   "execution_count": 6,
   "id": "8bf0c306",
   "metadata": {},
   "outputs": [],
   "source": [
    "train.drop(['id', 'name'], axis=1, inplace=True)\n",
    "test.drop(['id', 'name'], axis=1, inplace=True)"
   ]
  },
  {
   "cell_type": "markdown",
   "id": "908c464f",
   "metadata": {},
   "source": [
    "2. contract_utill에서 연도만 추출\n",
    "* apply 메서드는 DataFrame에 함수를 적용하여 반환합니다."
   ]
  },
  {
   "cell_type": "code",
   "execution_count": 7,
   "id": "ffbd5a30",
   "metadata": {},
   "outputs": [
    {
     "data": {
      "text/plain": [
       "2019            2366\n",
       "2021            2308\n",
       "2020            2041\n",
       "2022             761\n",
       "2023             506\n",
       "Jun 30, 2019     501\n",
       "2018             327\n",
       "Dec 31, 2018      64\n",
       "May 31, 2019      19\n",
       "2024              12\n",
       "Jan 31, 2019      10\n",
       "Jun 30, 2020       9\n",
       "2025               3\n",
       "Jan 1, 2019        2\n",
       "2026               1\n",
       "May 31, 2020       1\n",
       "Jan 12, 2019       1\n",
       "Name: contract_until, dtype: int64"
      ]
     },
     "execution_count": 7,
     "metadata": {},
     "output_type": "execute_result"
    }
   ],
   "source": [
    "train.contract_until.value_counts()"
   ]
  },
  {
   "cell_type": "code",
   "execution_count": 8,
   "id": "1fd28d31",
   "metadata": {
    "scrolled": true
   },
   "outputs": [],
   "source": [
    "def func(string:object):\n",
    "    string = string[-4:] # 뒤에서 네번째 까지(연도))\n",
    "    return int(string)\n",
    "\n",
    "train['contract_until'] = train['contract_until'].apply(func)\n",
    "test['contract_until'] = test['contract_until'].apply(func)"
   ]
  },
  {
   "cell_type": "markdown",
   "id": "9b726d28",
   "metadata": {},
   "source": [
    "3. categorical, numero\n",
    "* string type의 데이터들을 숫자형을 cat.codes를 이용하여 int타입으로 변환합니다."
   ]
  },
  {
   "cell_type": "code",
   "execution_count": 9,
   "id": "db875ce2",
   "metadata": {},
   "outputs": [
    {
     "data": {
      "text/plain": [
       "0       south america\n",
       "1              europe\n",
       "2       south america\n",
       "3              europe\n",
       "4              europe\n",
       "            ...      \n",
       "8927           africa\n",
       "8928           europe\n",
       "8929    south america\n",
       "8930           europe\n",
       "8931           europe\n",
       "Name: continent, Length: 8932, dtype: object"
      ]
     },
     "execution_count": 9,
     "metadata": {},
     "output_type": "execute_result"
    }
   ],
   "source": [
    "train.continent"
   ]
  },
  {
   "cell_type": "code",
   "execution_count": 10,
   "id": "29366ef0",
   "metadata": {},
   "outputs": [],
   "source": [
    "# train['continent'] = train['continent'].astype('category').cat.codes\n",
    "# train['position'] = train['position'].astype('category').cat.codes\n",
    "# train['prefer_foot'] = train['prefer_foot'].astype('category').cat.codes\n",
    "\n",
    "# test['contient'] = test['continent'].astype('category').cat.codes\n",
    "# test['position'] = test['position'].astype('category').cat.codes\n",
    "# test['prefer_foot'] = test['prefer_foot'].astype('category').cat.codes"
   ]
  },
  {
   "cell_type": "markdown",
   "id": "ecfaacdd",
   "metadata": {},
   "source": [
    "많이 사용되는 방법이지만 단점으로 어떤 클래스가 숫자로 정의되어 있는지 확인하기가 어렵습니다."
   ]
  },
  {
   "cell_type": "markdown",
   "id": "220782cf",
   "metadata": {},
   "source": [
    "sklearn의 label encoder를 사용하여 변환하면 쉽고 cat.codes의 단점도 해결할 수 있습니다."
   ]
  },
  {
   "cell_type": "markdown",
   "id": "9bed0e63",
   "metadata": {},
   "source": [
    "다만 LabelEncoder는 파이썬의 클래스 객체입니다. \n",
    "클래스 객체가 어떤 속성 데이터를 출력해줄 수 있는 것은 내부에 해당 속성을 저장하기 때문인데, \n",
    "세 칼럼을 동일한 인코더 객체로 인코딩 해주면서 앞서 저장된 데이터를 덮어 씌웠기 때문에 마지막 데이터만 보여주게 됩니다."
   ]
  },
  {
   "cell_type": "code",
   "execution_count": 11,
   "id": "d0495260",
   "metadata": {},
   "outputs": [],
   "source": [
    "label_e = LabelEncoder()"
   ]
  },
  {
   "cell_type": "code",
   "execution_count": 12,
   "id": "820909cc",
   "metadata": {},
   "outputs": [
    {
     "data": {
      "text/plain": [
       "array(['africa', 'asia', 'europe', 'oceania', 'south america'],\n",
       "      dtype=object)"
      ]
     },
     "execution_count": 12,
     "metadata": {},
     "output_type": "execute_result"
    }
   ],
   "source": [
    "train['continent'] = label_e.fit_transform(train['continent'])\n",
    "label_e.classes_"
   ]
  },
  {
   "cell_type": "code",
   "execution_count": 13,
   "id": "60342206",
   "metadata": {},
   "outputs": [
    {
     "data": {
      "text/plain": [
       "array(['DF', 'GK', 'MF', 'ST'], dtype=object)"
      ]
     },
     "execution_count": 13,
     "metadata": {},
     "output_type": "execute_result"
    }
   ],
   "source": [
    "train['position'] = label_e.fit_transform(train['position'])\n",
    "label_e.classes_"
   ]
  },
  {
   "cell_type": "code",
   "execution_count": 14,
   "id": "890c607b",
   "metadata": {},
   "outputs": [
    {
     "data": {
      "text/plain": [
       "array(['left', 'right'], dtype=object)"
      ]
     },
     "execution_count": 14,
     "metadata": {},
     "output_type": "execute_result"
    }
   ],
   "source": [
    "train['prefer_foot'] = label_e.fit_transform(train['prefer_foot'])\n",
    "label_e.classes_"
   ]
  },
  {
   "cell_type": "code",
   "execution_count": 15,
   "id": "da7567d2",
   "metadata": {},
   "outputs": [
    {
     "name": "stdout",
     "output_type": "stream",
     "text": [
      "0       4\n",
      "1       2\n",
      "2       4\n",
      "3       2\n",
      "4       2\n",
      "       ..\n",
      "8927    0\n",
      "8928    2\n",
      "8929    4\n",
      "8930    2\n",
      "8931    2\n",
      "Name: continent, Length: 8932, dtype: int64\n"
     ]
    }
   ],
   "source": [
    "print(train['continent'])"
   ]
  },
  {
   "cell_type": "code",
   "execution_count": 16,
   "id": "c5f99c27",
   "metadata": {},
   "outputs": [],
   "source": [
    "test['continent'] = label_e.fit_transform(test['continent'])\n",
    "test['position'] = label_e.fit_transform(test['position'])\n",
    "test['prefer_foot'] = label_e.fit_transform(test['prefer_foot'])"
   ]
  },
  {
   "cell_type": "markdown",
   "id": "7ff0e5d3",
   "metadata": {},
   "source": [
    "## 3.Scailing"
   ]
  },
  {
   "cell_type": "code",
   "execution_count": 17,
   "id": "612b3751",
   "metadata": {
    "scrolled": true
   },
   "outputs": [],
   "source": [
    "sdscaler = StandardScaler()\n",
    "sdscaled_train = pd.DataFrame(sdscaler.fit_transform(train), columns = train.columns)\n",
    "sdscaled_test = pd.DataFrame(sdscaler.fit_transform(test), columns = test.columns)"
   ]
  },
  {
   "cell_type": "code",
   "execution_count": 18,
   "id": "dc11de8e",
   "metadata": {},
   "outputs": [
    {
     "data": {
      "text/html": [
       "<div>\n",
       "<style scoped>\n",
       "    .dataframe tbody tr th:only-of-type {\n",
       "        vertical-align: middle;\n",
       "    }\n",
       "\n",
       "    .dataframe tbody tr th {\n",
       "        vertical-align: top;\n",
       "    }\n",
       "\n",
       "    .dataframe thead th {\n",
       "        text-align: right;\n",
       "    }\n",
       "</style>\n",
       "<table border=\"1\" class=\"dataframe\">\n",
       "  <thead>\n",
       "    <tr style=\"text-align: right;\">\n",
       "      <th></th>\n",
       "      <th>age</th>\n",
       "      <th>continent</th>\n",
       "      <th>contract_until</th>\n",
       "      <th>position</th>\n",
       "      <th>prefer_foot</th>\n",
       "      <th>reputation</th>\n",
       "      <th>stat_overall</th>\n",
       "      <th>stat_potential</th>\n",
       "      <th>stat_skill_moves</th>\n",
       "      <th>value</th>\n",
       "    </tr>\n",
       "  </thead>\n",
       "  <tbody>\n",
       "    <tr>\n",
       "      <th>0</th>\n",
       "      <td>1.249309</td>\n",
       "      <td>1.606719</td>\n",
       "      <td>0.635952</td>\n",
       "      <td>1.381105</td>\n",
       "      <td>-1.806512</td>\n",
       "      <td>9.130280</td>\n",
       "      <td>3.925708</td>\n",
       "      <td>3.674598</td>\n",
       "      <td>2.059652</td>\n",
       "      <td>18.443366</td>\n",
       "    </tr>\n",
       "    <tr>\n",
       "      <th>1</th>\n",
       "      <td>0.386357</td>\n",
       "      <td>-0.180036</td>\n",
       "      <td>-0.153420</td>\n",
       "      <td>-0.404526</td>\n",
       "      <td>0.553553</td>\n",
       "      <td>6.770499</td>\n",
       "      <td>3.488041</td>\n",
       "      <td>3.507592</td>\n",
       "      <td>-1.806307</td>\n",
       "      <td>11.851639</td>\n",
       "    </tr>\n",
       "    <tr>\n",
       "      <th>2</th>\n",
       "      <td>1.249309</td>\n",
       "      <td>1.606719</td>\n",
       "      <td>0.635952</td>\n",
       "      <td>1.381105</td>\n",
       "      <td>0.553553</td>\n",
       "      <td>9.130280</td>\n",
       "      <td>3.488041</td>\n",
       "      <td>3.173580</td>\n",
       "      <td>0.770999</td>\n",
       "      <td>13.221348</td>\n",
       "    </tr>\n",
       "    <tr>\n",
       "      <th>3</th>\n",
       "      <td>1.465046</td>\n",
       "      <td>-0.180036</td>\n",
       "      <td>-0.153420</td>\n",
       "      <td>-1.297341</td>\n",
       "      <td>0.553553</td>\n",
       "      <td>6.770499</td>\n",
       "      <td>3.488041</td>\n",
       "      <td>3.173580</td>\n",
       "      <td>0.770999</td>\n",
       "      <td>8.256151</td>\n",
       "    </tr>\n",
       "    <tr>\n",
       "      <th>4</th>\n",
       "      <td>-0.045118</td>\n",
       "      <td>-0.180036</td>\n",
       "      <td>0.635952</td>\n",
       "      <td>-0.404526</td>\n",
       "      <td>0.553553</td>\n",
       "      <td>4.410719</td>\n",
       "      <td>3.342152</td>\n",
       "      <td>3.507592</td>\n",
       "      <td>-1.806307</td>\n",
       "      <td>11.166784</td>\n",
       "    </tr>\n",
       "    <tr>\n",
       "      <th>...</th>\n",
       "      <td>...</td>\n",
       "      <td>...</td>\n",
       "      <td>...</td>\n",
       "      <td>...</td>\n",
       "      <td>...</td>\n",
       "      <td>...</td>\n",
       "      <td>...</td>\n",
       "      <td>...</td>\n",
       "      <td>...</td>\n",
       "      <td>...</td>\n",
       "    </tr>\n",
       "    <tr>\n",
       "      <th>8927</th>\n",
       "      <td>-1.555283</td>\n",
       "      <td>-1.966790</td>\n",
       "      <td>-0.942792</td>\n",
       "      <td>0.488290</td>\n",
       "      <td>0.553553</td>\n",
       "      <td>-0.308843</td>\n",
       "      <td>-2.785186</td>\n",
       "      <td>-1.502586</td>\n",
       "      <td>0.770999</td>\n",
       "      <td>-0.465474</td>\n",
       "    </tr>\n",
       "    <tr>\n",
       "      <th>8928</th>\n",
       "      <td>-1.339545</td>\n",
       "      <td>-0.180036</td>\n",
       "      <td>-0.153420</td>\n",
       "      <td>-1.297341</td>\n",
       "      <td>0.553553</td>\n",
       "      <td>-0.308843</td>\n",
       "      <td>-2.931075</td>\n",
       "      <td>-2.170610</td>\n",
       "      <td>-0.517654</td>\n",
       "      <td>-0.468898</td>\n",
       "    </tr>\n",
       "    <tr>\n",
       "      <th>8929</th>\n",
       "      <td>-1.555283</td>\n",
       "      <td>1.606719</td>\n",
       "      <td>0.635952</td>\n",
       "      <td>-1.297341</td>\n",
       "      <td>0.553553</td>\n",
       "      <td>-0.308843</td>\n",
       "      <td>-2.931075</td>\n",
       "      <td>-1.335580</td>\n",
       "      <td>-0.517654</td>\n",
       "      <td>-0.467186</td>\n",
       "    </tr>\n",
       "    <tr>\n",
       "      <th>8930</th>\n",
       "      <td>-1.555283</td>\n",
       "      <td>-0.180036</td>\n",
       "      <td>0.635952</td>\n",
       "      <td>-0.404526</td>\n",
       "      <td>0.553553</td>\n",
       "      <td>-0.308843</td>\n",
       "      <td>-2.931075</td>\n",
       "      <td>-1.168574</td>\n",
       "      <td>-1.806307</td>\n",
       "      <td>-0.467186</td>\n",
       "    </tr>\n",
       "    <tr>\n",
       "      <th>8931</th>\n",
       "      <td>-1.339545</td>\n",
       "      <td>-0.180036</td>\n",
       "      <td>-0.153420</td>\n",
       "      <td>1.381105</td>\n",
       "      <td>0.553553</td>\n",
       "      <td>-0.308843</td>\n",
       "      <td>-2.931075</td>\n",
       "      <td>-1.502586</td>\n",
       "      <td>-0.517654</td>\n",
       "      <td>-0.465474</td>\n",
       "    </tr>\n",
       "  </tbody>\n",
       "</table>\n",
       "<p>8932 rows × 10 columns</p>\n",
       "</div>"
      ],
      "text/plain": [
       "           age  continent  contract_until  position  prefer_foot  reputation  \\\n",
       "0     1.249309   1.606719        0.635952  1.381105    -1.806512    9.130280   \n",
       "1     0.386357  -0.180036       -0.153420 -0.404526     0.553553    6.770499   \n",
       "2     1.249309   1.606719        0.635952  1.381105     0.553553    9.130280   \n",
       "3     1.465046  -0.180036       -0.153420 -1.297341     0.553553    6.770499   \n",
       "4    -0.045118  -0.180036        0.635952 -0.404526     0.553553    4.410719   \n",
       "...        ...        ...             ...       ...          ...         ...   \n",
       "8927 -1.555283  -1.966790       -0.942792  0.488290     0.553553   -0.308843   \n",
       "8928 -1.339545  -0.180036       -0.153420 -1.297341     0.553553   -0.308843   \n",
       "8929 -1.555283   1.606719        0.635952 -1.297341     0.553553   -0.308843   \n",
       "8930 -1.555283  -0.180036        0.635952 -0.404526     0.553553   -0.308843   \n",
       "8931 -1.339545  -0.180036       -0.153420  1.381105     0.553553   -0.308843   \n",
       "\n",
       "      stat_overall  stat_potential  stat_skill_moves      value  \n",
       "0         3.925708        3.674598          2.059652  18.443366  \n",
       "1         3.488041        3.507592         -1.806307  11.851639  \n",
       "2         3.488041        3.173580          0.770999  13.221348  \n",
       "3         3.488041        3.173580          0.770999   8.256151  \n",
       "4         3.342152        3.507592         -1.806307  11.166784  \n",
       "...            ...             ...               ...        ...  \n",
       "8927     -2.785186       -1.502586          0.770999  -0.465474  \n",
       "8928     -2.931075       -2.170610         -0.517654  -0.468898  \n",
       "8929     -2.931075       -1.335580         -0.517654  -0.467186  \n",
       "8930     -2.931075       -1.168574         -1.806307  -0.467186  \n",
       "8931     -2.931075       -1.502586         -0.517654  -0.465474  \n",
       "\n",
       "[8932 rows x 10 columns]"
      ]
     },
     "execution_count": 18,
     "metadata": {},
     "output_type": "execute_result"
    }
   ],
   "source": [
    "sdscaled_train"
   ]
  },
  {
   "cell_type": "code",
   "execution_count": 19,
   "id": "85384d02",
   "metadata": {},
   "outputs": [],
   "source": [
    "X_train, X_test, y_train, y_test = train_test_split(train, train['value'],test_size=0.2,random_state=2022)"
   ]
  },
  {
   "cell_type": "markdown",
   "id": "12965529",
   "metadata": {},
   "source": [
    "## 4.Modeling"
   ]
  },
  {
   "cell_type": "code",
   "execution_count": 20,
   "id": "06fae0e8",
   "metadata": {},
   "outputs": [],
   "source": [
    "dt_regr = DecisionTreeRegressor(max_depth=4)"
   ]
  },
  {
   "cell_type": "code",
   "execution_count": 33,
   "id": "2256855d",
   "metadata": {},
   "outputs": [
    {
     "data": {
      "text/html": [
       "<style>#sk-container-id-2 {color: black;background-color: white;}#sk-container-id-2 pre{padding: 0;}#sk-container-id-2 div.sk-toggleable {background-color: white;}#sk-container-id-2 label.sk-toggleable__label {cursor: pointer;display: block;width: 100%;margin-bottom: 0;padding: 0.3em;box-sizing: border-box;text-align: center;}#sk-container-id-2 label.sk-toggleable__label-arrow:before {content: \"▸\";float: left;margin-right: 0.25em;color: #696969;}#sk-container-id-2 label.sk-toggleable__label-arrow:hover:before {color: black;}#sk-container-id-2 div.sk-estimator:hover label.sk-toggleable__label-arrow:before {color: black;}#sk-container-id-2 div.sk-toggleable__content {max-height: 0;max-width: 0;overflow: hidden;text-align: left;background-color: #f0f8ff;}#sk-container-id-2 div.sk-toggleable__content pre {margin: 0.2em;color: black;border-radius: 0.25em;background-color: #f0f8ff;}#sk-container-id-2 input.sk-toggleable__control:checked~div.sk-toggleable__content {max-height: 200px;max-width: 100%;overflow: auto;}#sk-container-id-2 input.sk-toggleable__control:checked~label.sk-toggleable__label-arrow:before {content: \"▾\";}#sk-container-id-2 div.sk-estimator input.sk-toggleable__control:checked~label.sk-toggleable__label {background-color: #d4ebff;}#sk-container-id-2 div.sk-label input.sk-toggleable__control:checked~label.sk-toggleable__label {background-color: #d4ebff;}#sk-container-id-2 input.sk-hidden--visually {border: 0;clip: rect(1px 1px 1px 1px);clip: rect(1px, 1px, 1px, 1px);height: 1px;margin: -1px;overflow: hidden;padding: 0;position: absolute;width: 1px;}#sk-container-id-2 div.sk-estimator {font-family: monospace;background-color: #f0f8ff;border: 1px dotted black;border-radius: 0.25em;box-sizing: border-box;margin-bottom: 0.5em;}#sk-container-id-2 div.sk-estimator:hover {background-color: #d4ebff;}#sk-container-id-2 div.sk-parallel-item::after {content: \"\";width: 100%;border-bottom: 1px solid gray;flex-grow: 1;}#sk-container-id-2 div.sk-label:hover label.sk-toggleable__label {background-color: #d4ebff;}#sk-container-id-2 div.sk-serial::before {content: \"\";position: absolute;border-left: 1px solid gray;box-sizing: border-box;top: 0;bottom: 0;left: 50%;z-index: 0;}#sk-container-id-2 div.sk-serial {display: flex;flex-direction: column;align-items: center;background-color: white;padding-right: 0.2em;padding-left: 0.2em;position: relative;}#sk-container-id-2 div.sk-item {position: relative;z-index: 1;}#sk-container-id-2 div.sk-parallel {display: flex;align-items: stretch;justify-content: center;background-color: white;position: relative;}#sk-container-id-2 div.sk-item::before, #sk-container-id-2 div.sk-parallel-item::before {content: \"\";position: absolute;border-left: 1px solid gray;box-sizing: border-box;top: 0;bottom: 0;left: 50%;z-index: -1;}#sk-container-id-2 div.sk-parallel-item {display: flex;flex-direction: column;z-index: 1;position: relative;background-color: white;}#sk-container-id-2 div.sk-parallel-item:first-child::after {align-self: flex-end;width: 50%;}#sk-container-id-2 div.sk-parallel-item:last-child::after {align-self: flex-start;width: 50%;}#sk-container-id-2 div.sk-parallel-item:only-child::after {width: 0;}#sk-container-id-2 div.sk-dashed-wrapped {border: 1px dashed gray;margin: 0 0.4em 0.5em 0.4em;box-sizing: border-box;padding-bottom: 0.4em;background-color: white;}#sk-container-id-2 div.sk-label label {font-family: monospace;font-weight: bold;display: inline-block;line-height: 1.2em;}#sk-container-id-2 div.sk-label-container {text-align: center;}#sk-container-id-2 div.sk-container {/* jupyter's `normalize.less` sets `[hidden] { display: none; }` but bootstrap.min.css set `[hidden] { display: none !important; }` so we also need the `!important` here to be able to override the default hidden behavior on the sphinx rendered scikit-learn.org. See: https://github.com/scikit-learn/scikit-learn/issues/21755 */display: inline-block !important;position: relative;}#sk-container-id-2 div.sk-text-repr-fallback {display: none;}</style><div id=\"sk-container-id-2\" class=\"sk-top-container\"><div class=\"sk-text-repr-fallback\"><pre>DecisionTreeRegressor(max_depth=10)</pre><b>In a Jupyter environment, please rerun this cell to show the HTML representation or trust the notebook. <br />On GitHub, the HTML representation is unable to render, please try loading this page with nbviewer.org.</b></div><div class=\"sk-container\" hidden><div class=\"sk-item\"><div class=\"sk-estimator sk-toggleable\"><input class=\"sk-toggleable__control sk-hidden--visually\" id=\"sk-estimator-id-2\" type=\"checkbox\" checked><label for=\"sk-estimator-id-2\" class=\"sk-toggleable__label sk-toggleable__label-arrow\">DecisionTreeRegressor</label><div class=\"sk-toggleable__content\"><pre>DecisionTreeRegressor(max_depth=10)</pre></div></div></div></div></div>"
      ],
      "text/plain": [
       "DecisionTreeRegressor(max_depth=10)"
      ]
     },
     "execution_count": 33,
     "metadata": {},
     "output_type": "execute_result"
    }
   ],
   "source": [
    "dt_regr.fit(X_train['stat_overall'].values.reshape(-1,1), y_train)"
   ]
  },
  {
   "cell_type": "code",
   "execution_count": 34,
   "id": "13178293",
   "metadata": {},
   "outputs": [],
   "source": [
    "y_pred = dt_regr.predict(X_test['stat_overall'].values.reshape(-1,1))"
   ]
  },
  {
   "cell_type": "code",
   "execution_count": 35,
   "id": "c1ed7dee",
   "metadata": {},
   "outputs": [
    {
     "name": "stdout",
     "output_type": "stream",
     "text": [
      "단순 결정 트리 회귀 R2 : 0.9084\n"
     ]
    }
   ],
   "source": [
    "print('단순 결정 트리 회귀 R2 : {:.4f}'.format(r2_score(y_test, y_pred))) # depth = 5 "
   ]
  },
  {
   "cell_type": "code",
   "execution_count": 43,
   "id": "32e77d68",
   "metadata": {},
   "outputs": [],
   "source": [
    "arr = np.arange(1,10)"
   ]
  },
  {
   "cell_type": "code",
   "execution_count": 44,
   "id": "a6c4537c",
   "metadata": {},
   "outputs": [
    {
     "name": "stdout",
     "output_type": "stream",
     "text": [
      "\n",
      "단순 결정 트리 회귀 depth =1 R2 : 0.5831\n",
      "\n",
      "단순 결정 트리 회귀 depth =2 R2 : 0.8235\n",
      "\n",
      "단순 결정 트리 회귀 depth =3 R2 : 0.8806\n",
      "\n",
      "단순 결정 트리 회귀 depth =4 R2 : 0.8995\n",
      "\n",
      "단순 결정 트리 회귀 depth =5 R2 : 0.9078\n",
      "\n",
      "단순 결정 트리 회귀 depth =6 R2 : 0.9084\n",
      "\n",
      "단순 결정 트리 회귀 depth =7 R2 : 0.9084\n",
      "\n",
      "단순 결정 트리 회귀 depth =8 R2 : 0.9084\n",
      "\n",
      "단순 결정 트리 회귀 depth =9 R2 : 0.9084\n",
      "최적의 결과는 depth=9 r2=0.9084\n"
     ]
    }
   ],
   "source": [
    "best_depth = 0\n",
    "best_r2 = 0\n",
    "\n",
    "for depth in arr:\n",
    "  dt_regr = DecisionTreeRegressor(max_depth=depth)\n",
    "  dt_regr.fit(X_train['stat_overall'].values.reshape(-1,1), y_train)\n",
    "  y_pred = dt_regr.predict(X_test['stat_overall'].values.reshape(-1,1))\n",
    "  \n",
    "  temp_r2 = r2_score(y_test, y_pred)\n",
    "  print('\\n단순 결정 트리 회귀 depth ={} R2 : {:.4f}'.format(depth, temp_r2))\n",
    "\n",
    "  if best_r2 < temp_r2:\n",
    "    best_depth = depth\n",
    "    best_r2 = temp_r2\n",
    "\n",
    "print('최적의 결과는 depth={} r2={:.4f}'.format(best_depth, best_r2))"
   ]
  },
  {
   "cell_type": "code",
   "execution_count": 45,
   "id": "6ef5261d",
   "metadata": {},
   "outputs": [],
   "source": [
    "dt_regr = DecisionTreeRegressor(max_depth=5)"
   ]
  },
  {
   "cell_type": "code",
   "execution_count": 46,
   "id": "4499961f",
   "metadata": {},
   "outputs": [
    {
     "data": {
      "text/html": [
       "<style>#sk-container-id-3 {color: black;background-color: white;}#sk-container-id-3 pre{padding: 0;}#sk-container-id-3 div.sk-toggleable {background-color: white;}#sk-container-id-3 label.sk-toggleable__label {cursor: pointer;display: block;width: 100%;margin-bottom: 0;padding: 0.3em;box-sizing: border-box;text-align: center;}#sk-container-id-3 label.sk-toggleable__label-arrow:before {content: \"▸\";float: left;margin-right: 0.25em;color: #696969;}#sk-container-id-3 label.sk-toggleable__label-arrow:hover:before {color: black;}#sk-container-id-3 div.sk-estimator:hover label.sk-toggleable__label-arrow:before {color: black;}#sk-container-id-3 div.sk-toggleable__content {max-height: 0;max-width: 0;overflow: hidden;text-align: left;background-color: #f0f8ff;}#sk-container-id-3 div.sk-toggleable__content pre {margin: 0.2em;color: black;border-radius: 0.25em;background-color: #f0f8ff;}#sk-container-id-3 input.sk-toggleable__control:checked~div.sk-toggleable__content {max-height: 200px;max-width: 100%;overflow: auto;}#sk-container-id-3 input.sk-toggleable__control:checked~label.sk-toggleable__label-arrow:before {content: \"▾\";}#sk-container-id-3 div.sk-estimator input.sk-toggleable__control:checked~label.sk-toggleable__label {background-color: #d4ebff;}#sk-container-id-3 div.sk-label input.sk-toggleable__control:checked~label.sk-toggleable__label {background-color: #d4ebff;}#sk-container-id-3 input.sk-hidden--visually {border: 0;clip: rect(1px 1px 1px 1px);clip: rect(1px, 1px, 1px, 1px);height: 1px;margin: -1px;overflow: hidden;padding: 0;position: absolute;width: 1px;}#sk-container-id-3 div.sk-estimator {font-family: monospace;background-color: #f0f8ff;border: 1px dotted black;border-radius: 0.25em;box-sizing: border-box;margin-bottom: 0.5em;}#sk-container-id-3 div.sk-estimator:hover {background-color: #d4ebff;}#sk-container-id-3 div.sk-parallel-item::after {content: \"\";width: 100%;border-bottom: 1px solid gray;flex-grow: 1;}#sk-container-id-3 div.sk-label:hover label.sk-toggleable__label {background-color: #d4ebff;}#sk-container-id-3 div.sk-serial::before {content: \"\";position: absolute;border-left: 1px solid gray;box-sizing: border-box;top: 0;bottom: 0;left: 50%;z-index: 0;}#sk-container-id-3 div.sk-serial {display: flex;flex-direction: column;align-items: center;background-color: white;padding-right: 0.2em;padding-left: 0.2em;position: relative;}#sk-container-id-3 div.sk-item {position: relative;z-index: 1;}#sk-container-id-3 div.sk-parallel {display: flex;align-items: stretch;justify-content: center;background-color: white;position: relative;}#sk-container-id-3 div.sk-item::before, #sk-container-id-3 div.sk-parallel-item::before {content: \"\";position: absolute;border-left: 1px solid gray;box-sizing: border-box;top: 0;bottom: 0;left: 50%;z-index: -1;}#sk-container-id-3 div.sk-parallel-item {display: flex;flex-direction: column;z-index: 1;position: relative;background-color: white;}#sk-container-id-3 div.sk-parallel-item:first-child::after {align-self: flex-end;width: 50%;}#sk-container-id-3 div.sk-parallel-item:last-child::after {align-self: flex-start;width: 50%;}#sk-container-id-3 div.sk-parallel-item:only-child::after {width: 0;}#sk-container-id-3 div.sk-dashed-wrapped {border: 1px dashed gray;margin: 0 0.4em 0.5em 0.4em;box-sizing: border-box;padding-bottom: 0.4em;background-color: white;}#sk-container-id-3 div.sk-label label {font-family: monospace;font-weight: bold;display: inline-block;line-height: 1.2em;}#sk-container-id-3 div.sk-label-container {text-align: center;}#sk-container-id-3 div.sk-container {/* jupyter's `normalize.less` sets `[hidden] { display: none; }` but bootstrap.min.css set `[hidden] { display: none !important; }` so we also need the `!important` here to be able to override the default hidden behavior on the sphinx rendered scikit-learn.org. See: https://github.com/scikit-learn/scikit-learn/issues/21755 */display: inline-block !important;position: relative;}#sk-container-id-3 div.sk-text-repr-fallback {display: none;}</style><div id=\"sk-container-id-3\" class=\"sk-top-container\"><div class=\"sk-text-repr-fallback\"><pre>DecisionTreeRegressor(max_depth=5)</pre><b>In a Jupyter environment, please rerun this cell to show the HTML representation or trust the notebook. <br />On GitHub, the HTML representation is unable to render, please try loading this page with nbviewer.org.</b></div><div class=\"sk-container\" hidden><div class=\"sk-item\"><div class=\"sk-estimator sk-toggleable\"><input class=\"sk-toggleable__control sk-hidden--visually\" id=\"sk-estimator-id-3\" type=\"checkbox\" checked><label for=\"sk-estimator-id-3\" class=\"sk-toggleable__label sk-toggleable__label-arrow\">DecisionTreeRegressor</label><div class=\"sk-toggleable__content\"><pre>DecisionTreeRegressor(max_depth=5)</pre></div></div></div></div></div>"
      ],
      "text/plain": [
       "DecisionTreeRegressor(max_depth=5)"
      ]
     },
     "execution_count": 46,
     "metadata": {},
     "output_type": "execute_result"
    }
   ],
   "source": [
    "dt_regr.fit(X_train, y_train)"
   ]
  },
  {
   "cell_type": "code",
   "execution_count": 47,
   "id": "2823fbf3",
   "metadata": {},
   "outputs": [],
   "source": [
    "y_pred = dt_regr.predict(X_test)"
   ]
  },
  {
   "cell_type": "code",
   "execution_count": 48,
   "id": "f11799a0",
   "metadata": {},
   "outputs": [
    {
     "name": "stdout",
     "output_type": "stream",
     "text": [
      "다중 결정 트리 회귀 R2 : 0.9964\n"
     ]
    }
   ],
   "source": [
    "print('다중 결정 트리 회귀 R2 : {:.4f}'.format(r2_score(y_test, y_pred)))"
   ]
  },
  {
   "cell_type": "code",
   "execution_count": 49,
   "id": "45f2fe58",
   "metadata": {},
   "outputs": [
    {
     "name": "stdout",
     "output_type": "stream",
     "text": [
      "\n",
      "다중 결정 트리 회귀 depth =1 R2 : 0.6117\n",
      "\n",
      "다중 결정 트리 회귀 depth =2 R2 : 0.8929\n",
      "\n",
      "다중 결정 트리 회귀 depth =3 R2 : 0.9718\n",
      "\n",
      "다중 결정 트리 회귀 depth =4 R2 : 0.9773\n",
      "\n",
      "다중 결정 트리 회귀 depth =5 R2 : 0.9964\n",
      "\n",
      "다중 결정 트리 회귀 depth =6 R2 : 0.9854\n",
      "\n",
      "다중 결정 트리 회귀 depth =7 R2 : 0.9985\n",
      "\n",
      "다중 결정 트리 회귀 depth =8 R2 : 0.9985\n",
      "\n",
      "다중 결정 트리 회귀 depth =9 R2 : 0.9979\n",
      "최적의 결과는 depth=8 r2=0.9985\n"
     ]
    }
   ],
   "source": [
    "best_depth = 0\n",
    "best_r2 = 0\n",
    "\n",
    "for depth in arr:\n",
    "  dt_regr = DecisionTreeRegressor(max_depth=depth)\n",
    "  dt_regr.fit(X_train, y_train)\n",
    "  y_pred = dt_regr.predict(X_test)\n",
    "  \n",
    "  temp_r2 = r2_score(y_test, y_pred)\n",
    "  print('\\n다중 결정 트리 회귀 depth ={} R2 : {:.4f}'.format(depth, temp_r2))\n",
    "\n",
    "  if best_r2 < temp_r2:\n",
    "    best_depth = depth\n",
    "    best_r2 = temp_r2\n",
    "\n",
    "print('최적의 결과는 depth={} r2={:.4f}'.format(best_depth, best_r2))"
   ]
  },
  {
   "cell_type": "code",
   "execution_count": null,
   "id": "1c3877ae",
   "metadata": {},
   "outputs": [],
   "source": []
  }
 ],
 "metadata": {
  "kernelspec": {
   "display_name": "Python 3 (ipykernel)",
   "language": "python",
   "name": "python3"
  },
  "language_info": {
   "codemirror_mode": {
    "name": "ipython",
    "version": 3
   },
   "file_extension": ".py",
   "mimetype": "text/x-python",
   "name": "python",
   "nbconvert_exporter": "python",
   "pygments_lexer": "ipython3",
   "version": "3.9.13"
  }
 },
 "nbformat": 4,
 "nbformat_minor": 5
}
