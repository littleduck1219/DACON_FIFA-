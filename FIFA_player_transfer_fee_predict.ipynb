{
 "cells": [
  {
   "cell_type": "markdown",
   "id": "c65c529f",
   "metadata": {},
   "source": [
    "# FIFA 선수 이적료 예측 경진대회\n",
    "\n",
    "### FIFA_train.csv / FIFA_test.csv\n",
    "id : 선수 고유의 아이디\\\n",
    "name : 이름\\\n",
    "age : 나이\\\n",
    "continent : 선수들의 국적이 포함되어 있는 대륙입니다\\\n",
    "contract_until : 선수의 계약기간이 언제까지인지 나타내어 줍니다\\\n",
    "position : 선수가 선호하는 포지션입니다. ex) 공격수, 수비수 등\\\n",
    "prefer_foot : 선수가 선호하는 발입니다. ex) 오른발\\\n",
    "reputation : 선수가 유명한 정도입니다. ex) 높은 수치일 수록 유명한 선수\\\n",
    "stat_overall : 선수의 현재 능력치 입니다.\\\n",
    "stat_potential : 선수가 경험 및 노력을 통해 발전할 수 있는 정도입니다.\\\n",
    "stat_skill_moves : 선수의 개인기 능력치 입니다.\\\n",
    "value : FIFA가 선정한 선수의 이적 시장 가격 (단위 : 유로) 입니다\\\n",
    "\n",
    "\n",
    "### submission.csv (제출 파일 형식)\n",
    "id : 선수 고유의 아이디\\\n",
    "value : 예측된 선수 이적 시장 가격을 기입\n"
   ]
  },
  {
   "cell_type": "code",
   "execution_count": 1,
   "id": "59875412",
   "metadata": {},
   "outputs": [],
   "source": [
    "import numpy as np\n",
    "import pandas as pd\n",
    "import matplotlib.pyplot as plt\n",
    "import seaborn as sns\n",
    "from sklearn.preprocessing import LabelEncoder\n",
    "from sklearn.model_selection import train_test_split\n",
    "from sklearn.preprocessing import StandardScaler\n",
    "from sklearn.tree import DecisionTreeRegressor\n",
    "from sklearn.metrics import r2_score"
   ]
  },
  {
   "cell_type": "markdown",
   "id": "aa77ec6c",
   "metadata": {},
   "source": [
    "## 1.데이터 로드 및 정보 확인"
   ]
  },
  {
   "cell_type": "markdown",
   "id": "a2c8401e",
   "metadata": {},
   "source": [
    "1. 데이터 로드 및 라벨 지정"
   ]
  },
  {
   "cell_type": "code",
   "execution_count": 2,
   "id": "17bf7d98",
   "metadata": {},
   "outputs": [],
   "source": [
    "train = pd.read_csv(\"./FIFA_train.csv\")\n",
    "label = train['value']\n",
    "test = pd.read_csv(\"./FIFA_test.csv\")\n",
    "submission = pd.read_csv(\"./submission.csv\")"
   ]
  },
  {
   "cell_type": "markdown",
   "id": "7c527b9d",
   "metadata": {},
   "source": [
    "2. 데이터 정보 확인"
   ]
  },
  {
   "cell_type": "code",
   "execution_count": 3,
   "id": "987b678a",
   "metadata": {},
   "outputs": [
    {
     "name": "stdout",
     "output_type": "stream",
     "text": [
      "<class 'pandas.core.frame.DataFrame'>\n",
      "RangeIndex: 8932 entries, 0 to 8931\n",
      "Data columns (total 12 columns):\n",
      " #   Column            Non-Null Count  Dtype  \n",
      "---  ------            --------------  -----  \n",
      " 0   id                8932 non-null   int64  \n",
      " 1   name              8932 non-null   object \n",
      " 2   age               8932 non-null   int64  \n",
      " 3   continent         8932 non-null   object \n",
      " 4   contract_until    8932 non-null   object \n",
      " 5   position          8932 non-null   object \n",
      " 6   prefer_foot       8932 non-null   object \n",
      " 7   reputation        8932 non-null   float64\n",
      " 8   stat_overall      8932 non-null   int64  \n",
      " 9   stat_potential    8932 non-null   int64  \n",
      " 10  stat_skill_moves  8932 non-null   float64\n",
      " 11  value             8932 non-null   float64\n",
      "dtypes: float64(3), int64(4), object(5)\n",
      "memory usage: 837.5+ KB\n"
     ]
    }
   ],
   "source": [
    "train.info()"
   ]
  },
  {
   "cell_type": "code",
   "execution_count": 4,
   "id": "93d6db35",
   "metadata": {
    "scrolled": false
   },
   "outputs": [
    {
     "name": "stdout",
     "output_type": "stream",
     "text": [
      "<class 'pandas.core.frame.DataFrame'>\n",
      "RangeIndex: 3828 entries, 0 to 3827\n",
      "Data columns (total 11 columns):\n",
      " #   Column            Non-Null Count  Dtype  \n",
      "---  ------            --------------  -----  \n",
      " 0   id                3828 non-null   int64  \n",
      " 1   name              3828 non-null   object \n",
      " 2   age               3828 non-null   int64  \n",
      " 3   continent         3828 non-null   object \n",
      " 4   contract_until    3828 non-null   object \n",
      " 5   position          3828 non-null   object \n",
      " 6   prefer_foot       3828 non-null   object \n",
      " 7   reputation        3828 non-null   float64\n",
      " 8   stat_overall      3828 non-null   int64  \n",
      " 9   stat_potential    3828 non-null   int64  \n",
      " 10  stat_skill_moves  3828 non-null   float64\n",
      "dtypes: float64(2), int64(4), object(5)\n",
      "memory usage: 329.1+ KB\n"
     ]
    }
   ],
   "source": [
    "test.info()"
   ]
  },
  {
   "cell_type": "markdown",
   "id": "968177f7",
   "metadata": {},
   "source": [
    "3. null 값 확인"
   ]
  },
  {
   "cell_type": "code",
   "execution_count": 5,
   "id": "e9b247cc",
   "metadata": {},
   "outputs": [
    {
     "data": {
      "text/plain": [
       "id                  0\n",
       "name                0\n",
       "age                 0\n",
       "continent           0\n",
       "contract_until      0\n",
       "position            0\n",
       "prefer_foot         0\n",
       "reputation          0\n",
       "stat_overall        0\n",
       "stat_potential      0\n",
       "stat_skill_moves    0\n",
       "value               0\n",
       "dtype: int64"
      ]
     },
     "execution_count": 5,
     "metadata": {},
     "output_type": "execute_result"
    }
   ],
   "source": [
    "train.isnull().sum()"
   ]
  },
  {
   "cell_type": "markdown",
   "id": "76909e82",
   "metadata": {},
   "source": [
    "## 2.데이터 전처리"
   ]
  },
  {
   "cell_type": "markdown",
   "id": "b6a0abc5",
   "metadata": {},
   "source": [
    "1. 필요없는 데이터 삭제(라벨은 앞에서 지정하였으므로 불필요)"
   ]
  },
  {
   "cell_type": "code",
   "execution_count": 6,
   "id": "8bf0c306",
   "metadata": {},
   "outputs": [],
   "source": [
    "train.drop(['id', 'name', 'value'], axis=1, inplace=True)\n",
    "test.drop(['id', 'name'], axis=1, inplace=True)"
   ]
  },
  {
   "cell_type": "code",
   "execution_count": 8,
   "id": "6183a21c",
   "metadata": {},
   "outputs": [
    {
     "data": {
      "text/plain": [
       "((8932, 9), (3828, 9))"
      ]
     },
     "execution_count": 8,
     "metadata": {},
     "output_type": "execute_result"
    }
   ],
   "source": [
    "train.shape, test.shape"
   ]
  },
  {
   "cell_type": "markdown",
   "id": "94d48dce",
   "metadata": {},
   "source": [
    "2. Categorical, Numerical Columns 각각 분리해 준다."
   ]
  },
  {
   "cell_type": "code",
   "execution_count": 9,
   "id": "dff96079",
   "metadata": {},
   "outputs": [
    {
     "name": "stdout",
     "output_type": "stream",
     "text": [
      "Categorical Columns: \n",
      " ['continent' 'contract_until' 'position' 'prefer_foot']\n",
      "Numerical Columns: \n",
      " ['age' 'reputation' 'stat_overall' 'stat_potential' 'stat_skill_moves']\n"
     ]
    }
   ],
   "source": [
    "cal_c = test.dtypes[test.dtypes == \"object\"].index.values\n",
    "num_c = test.dtypes[test.dtypes != \"object\"].index.values\n",
    "print(f'Categorical Columns: \\n {cal_c}')\n",
    "print(f'Numerical Columns: \\n {num_c}')"
   ]
  },
  {
   "cell_type": "markdown",
   "id": "908c464f",
   "metadata": {},
   "source": [
    "3. contract_utill Column에서 연도만 추출\n",
    "* apply 메서드는 DataFrame에 함수를 적용하여 반환합니다."
   ]
  },
  {
   "cell_type": "code",
   "execution_count": 10,
   "id": "ffbd5a30",
   "metadata": {},
   "outputs": [
    {
     "data": {
      "text/plain": [
       "2019            2366\n",
       "2021            2308\n",
       "2020            2041\n",
       "2022             761\n",
       "2023             506\n",
       "Jun 30, 2019     501\n",
       "2018             327\n",
       "Dec 31, 2018      64\n",
       "May 31, 2019      19\n",
       "2024              12\n",
       "Jan 31, 2019      10\n",
       "Jun 30, 2020       9\n",
       "2025               3\n",
       "Jan 1, 2019        2\n",
       "2026               1\n",
       "May 31, 2020       1\n",
       "Jan 12, 2019       1\n",
       "Name: contract_until, dtype: int64"
      ]
     },
     "execution_count": 10,
     "metadata": {},
     "output_type": "execute_result"
    }
   ],
   "source": [
    "train.contract_until.value_counts()"
   ]
  },
  {
   "cell_type": "code",
   "execution_count": 11,
   "id": "1fd28d31",
   "metadata": {
    "scrolled": true
   },
   "outputs": [],
   "source": [
    "def func(string:object):\n",
    "    string = string[-4:] # 뒤에서 네번째 까지(연도))\n",
    "    return int(string)\n",
    "\n",
    "train['contract_until'] = train['contract_until'].apply(func)\n",
    "test['contract_until'] = test['contract_until'].apply(func)"
   ]
  },
  {
   "cell_type": "code",
   "execution_count": 12,
   "id": "70ca2c93",
   "metadata": {},
   "outputs": [
    {
     "data": {
      "text/plain": [
       "2019    2899\n",
       "2021    2308\n",
       "2020    2051\n",
       "2022     761\n",
       "2023     506\n",
       "2018     391\n",
       "2024      12\n",
       "2025       3\n",
       "2026       1\n",
       "Name: contract_until, dtype: int64"
      ]
     },
     "execution_count": 12,
     "metadata": {},
     "output_type": "execute_result"
    }
   ],
   "source": [
    "train.contract_until.value_counts()"
   ]
  },
  {
   "cell_type": "code",
   "execution_count": 13,
   "id": "384a2f6e",
   "metadata": {},
   "outputs": [
    {
     "data": {
      "text/plain": [
       "((7145, 9), (1787, 9), (7145,), (1787,))"
      ]
     },
     "execution_count": 13,
     "metadata": {},
     "output_type": "execute_result"
    }
   ],
   "source": [
    "X_train, X_valid, y_train, y_valid = train_test_split(train, label, test_size=0.2, random_state=2022)\n",
    "X_train.shape, X_valid.shape, y_train.shape, y_valid.shape"
   ]
  },
  {
   "cell_type": "markdown",
   "id": "7ff0e5d3",
   "metadata": {},
   "source": [
    "## 3.Scailing"
   ]
  },
  {
   "cell_type": "code",
   "execution_count": 18,
   "id": "612b3751",
   "metadata": {
    "scrolled": true
   },
   "outputs": [
    {
     "ename": "SyntaxError",
     "evalue": "unexpected EOF while parsing (3629944023.py, line 2)",
     "output_type": "error",
     "traceback": [
      "\u001b[0;36m  Input \u001b[0;32mIn [18]\u001b[0;36m\u001b[0m\n\u001b[0;31m    sdscaled_train = pd.DataFrame(sdscaler.fit_transform(X_train, columns = X_train[num_c])\u001b[0m\n\u001b[0m                                                                                           ^\u001b[0m\n\u001b[0;31mSyntaxError\u001b[0m\u001b[0;31m:\u001b[0m unexpected EOF while parsing\n"
     ]
    }
   ],
   "source": [
    "sdscaler = StandardScaler()\n",
    "sdscaled_train = pd.DataFrame(sdscaler.fit_transform(X_train, columns = X_train[num_c])"
   ]
  },
  {
   "cell_type": "code",
   "execution_count": null,
   "id": "dc11de8e",
   "metadata": {},
   "outputs": [],
   "source": [
    "sdscaled_train"
   ]
  },
  {
   "cell_type": "code",
   "execution_count": null,
   "id": "85384d02",
   "metadata": {},
   "outputs": [],
   "source": []
  },
  {
   "cell_type": "markdown",
   "id": "12965529",
   "metadata": {},
   "source": [
    "## 4.Modeling"
   ]
  },
  {
   "cell_type": "code",
   "execution_count": null,
   "id": "06fae0e8",
   "metadata": {},
   "outputs": [],
   "source": [
    "dt_regr = DecisionTreeRegressor(max_depth=4)"
   ]
  },
  {
   "cell_type": "code",
   "execution_count": null,
   "id": "2256855d",
   "metadata": {},
   "outputs": [],
   "source": [
    "dt_regr.fit(X_train['stat_overall'].values.reshape(-1,1), y_train)"
   ]
  },
  {
   "cell_type": "code",
   "execution_count": null,
   "id": "13178293",
   "metadata": {},
   "outputs": [],
   "source": [
    "y_pred = dt_regr.predict(X_test['stat_overall'].values.reshape(-1,1))"
   ]
  },
  {
   "cell_type": "code",
   "execution_count": null,
   "id": "c1ed7dee",
   "metadata": {},
   "outputs": [],
   "source": [
    "print('단순 결정 트리 회귀 R2 : {:.4f}'.format(r2_score(y_test, y_pred))) # depth = 5 "
   ]
  },
  {
   "cell_type": "code",
   "execution_count": null,
   "id": "32e77d68",
   "metadata": {},
   "outputs": [],
   "source": [
    "arr = np.arange(1,10)"
   ]
  },
  {
   "cell_type": "code",
   "execution_count": null,
   "id": "a6c4537c",
   "metadata": {},
   "outputs": [],
   "source": [
    "best_depth = 0\n",
    "best_r2 = 0\n",
    "\n",
    "for depth in arr:\n",
    "  dt_regr = DecisionTreeRegressor(max_depth=depth)\n",
    "  dt_regr.fit(X_train['stat_overall'].values.reshape(-1,1), y_train)\n",
    "  y_pred = dt_regr.predict(X_test['stat_overall'].values.reshape(-1,1))\n",
    "  \n",
    "  temp_r2 = r2_score(y_test, y_pred)\n",
    "  print('\\n단순 결정 트리 회귀 depth ={} R2 : {:.4f}'.format(depth, temp_r2))\n",
    "\n",
    "  if best_r2 < temp_r2:\n",
    "    best_depth = depth\n",
    "    best_r2 = temp_r2\n",
    "\n",
    "print('최적의 결과는 depth={} r2={:.4f}'.format(best_depth, best_r2))"
   ]
  },
  {
   "cell_type": "code",
   "execution_count": null,
   "id": "6ef5261d",
   "metadata": {},
   "outputs": [],
   "source": [
    "dt_regr = DecisionTreeRegressor(max_depth=5)"
   ]
  },
  {
   "cell_type": "code",
   "execution_count": null,
   "id": "4499961f",
   "metadata": {},
   "outputs": [],
   "source": [
    "dt_regr.fit(X_train, y_train)"
   ]
  },
  {
   "cell_type": "code",
   "execution_count": null,
   "id": "2823fbf3",
   "metadata": {},
   "outputs": [],
   "source": [
    "y_pred = dt_regr.predict(X_test)"
   ]
  },
  {
   "cell_type": "code",
   "execution_count": null,
   "id": "f11799a0",
   "metadata": {},
   "outputs": [],
   "source": [
    "print('다중 결정 트리 회귀 R2 : {:.4f}'.format(r2_score(y_test, y_pred)))"
   ]
  },
  {
   "cell_type": "code",
   "execution_count": null,
   "id": "45f2fe58",
   "metadata": {},
   "outputs": [],
   "source": [
    "best_depth = 0\n",
    "best_r2 = 0\n",
    "\n",
    "for depth in arr:\n",
    "  dt_regr = DecisionTreeRegressor(max_depth=depth)\n",
    "  dt_regr.fit(X_train, y_train)\n",
    "  y_pred = dt_regr.predict(X_test)\n",
    "  \n",
    "  temp_r2 = r2_score(y_test, y_pred)\n",
    "  print('\\n다중 결정 트리 회귀 depth ={} R2 : {:.4f}'.format(depth, temp_r2))\n",
    "\n",
    "  if best_r2 < temp_r2:\n",
    "    best_depth = depth\n",
    "    best_r2 = temp_r2\n",
    "\n",
    "print('최적의 결과는 depth={} r2={:.4f}'.format(best_depth, best_r2))"
   ]
  },
  {
   "cell_type": "code",
   "execution_count": 17,
   "id": "1c3877ae",
   "metadata": {},
   "outputs": [
    {
     "data": {
      "text/html": [
       "<div>\n",
       "<style scoped>\n",
       "    .dataframe tbody tr th:only-of-type {\n",
       "        vertical-align: middle;\n",
       "    }\n",
       "\n",
       "    .dataframe tbody tr th {\n",
       "        vertical-align: top;\n",
       "    }\n",
       "\n",
       "    .dataframe thead th {\n",
       "        text-align: right;\n",
       "    }\n",
       "</style>\n",
       "<table border=\"1\" class=\"dataframe\">\n",
       "  <thead>\n",
       "    <tr style=\"text-align: right;\">\n",
       "      <th></th>\n",
       "      <th>age</th>\n",
       "      <th>reputation</th>\n",
       "      <th>stat_overall</th>\n",
       "      <th>stat_potential</th>\n",
       "      <th>stat_skill_moves</th>\n",
       "    </tr>\n",
       "  </thead>\n",
       "  <tbody>\n",
       "    <tr>\n",
       "      <th>2134</th>\n",
       "      <td>30</td>\n",
       "      <td>1.0</td>\n",
       "      <td>72</td>\n",
       "      <td>72</td>\n",
       "      <td>1.0</td>\n",
       "    </tr>\n",
       "    <tr>\n",
       "      <th>6041</th>\n",
       "      <td>22</td>\n",
       "      <td>1.0</td>\n",
       "      <td>64</td>\n",
       "      <td>72</td>\n",
       "      <td>2.0</td>\n",
       "    </tr>\n",
       "    <tr>\n",
       "      <th>7241</th>\n",
       "      <td>20</td>\n",
       "      <td>1.0</td>\n",
       "      <td>61</td>\n",
       "      <td>72</td>\n",
       "      <td>2.0</td>\n",
       "    </tr>\n",
       "    <tr>\n",
       "      <th>2033</th>\n",
       "      <td>26</td>\n",
       "      <td>1.0</td>\n",
       "      <td>72</td>\n",
       "      <td>75</td>\n",
       "      <td>3.0</td>\n",
       "    </tr>\n",
       "    <tr>\n",
       "      <th>5959</th>\n",
       "      <td>21</td>\n",
       "      <td>1.0</td>\n",
       "      <td>64</td>\n",
       "      <td>74</td>\n",
       "      <td>3.0</td>\n",
       "    </tr>\n",
       "    <tr>\n",
       "      <th>...</th>\n",
       "      <td>...</td>\n",
       "      <td>...</td>\n",
       "      <td>...</td>\n",
       "      <td>...</td>\n",
       "      <td>...</td>\n",
       "    </tr>\n",
       "    <tr>\n",
       "      <th>6384</th>\n",
       "      <td>19</td>\n",
       "      <td>1.0</td>\n",
       "      <td>63</td>\n",
       "      <td>71</td>\n",
       "      <td>3.0</td>\n",
       "    </tr>\n",
       "    <tr>\n",
       "      <th>4720</th>\n",
       "      <td>25</td>\n",
       "      <td>1.0</td>\n",
       "      <td>67</td>\n",
       "      <td>71</td>\n",
       "      <td>3.0</td>\n",
       "    </tr>\n",
       "    <tr>\n",
       "      <th>173</th>\n",
       "      <td>29</td>\n",
       "      <td>3.0</td>\n",
       "      <td>82</td>\n",
       "      <td>82</td>\n",
       "      <td>4.0</td>\n",
       "    </tr>\n",
       "    <tr>\n",
       "      <th>1244</th>\n",
       "      <td>32</td>\n",
       "      <td>1.0</td>\n",
       "      <td>74</td>\n",
       "      <td>74</td>\n",
       "      <td>3.0</td>\n",
       "    </tr>\n",
       "    <tr>\n",
       "      <th>4989</th>\n",
       "      <td>27</td>\n",
       "      <td>1.0</td>\n",
       "      <td>66</td>\n",
       "      <td>67</td>\n",
       "      <td>2.0</td>\n",
       "    </tr>\n",
       "  </tbody>\n",
       "</table>\n",
       "<p>7145 rows × 5 columns</p>\n",
       "</div>"
      ],
      "text/plain": [
       "      age  reputation  stat_overall  stat_potential  stat_skill_moves\n",
       "2134   30         1.0            72              72               1.0\n",
       "6041   22         1.0            64              72               2.0\n",
       "7241   20         1.0            61              72               2.0\n",
       "2033   26         1.0            72              75               3.0\n",
       "5959   21         1.0            64              74               3.0\n",
       "...   ...         ...           ...             ...               ...\n",
       "6384   19         1.0            63              71               3.0\n",
       "4720   25         1.0            67              71               3.0\n",
       "173    29         3.0            82              82               4.0\n",
       "1244   32         1.0            74              74               3.0\n",
       "4989   27         1.0            66              67               2.0\n",
       "\n",
       "[7145 rows x 5 columns]"
      ]
     },
     "execution_count": 17,
     "metadata": {},
     "output_type": "execute_result"
    }
   ],
   "source": []
  },
  {
   "cell_type": "code",
   "execution_count": null,
   "id": "06f4e275",
   "metadata": {},
   "outputs": [],
   "source": []
  },
  {
   "cell_type": "code",
   "execution_count": null,
   "id": "6ee0a380",
   "metadata": {},
   "outputs": [],
   "source": []
  }
 ],
 "metadata": {
  "kernelspec": {
   "display_name": "Python 3 (ipykernel)",
   "language": "python",
   "name": "python3"
  },
  "language_info": {
   "codemirror_mode": {
    "name": "ipython",
    "version": 3
   },
   "file_extension": ".py",
   "mimetype": "text/x-python",
   "name": "python",
   "nbconvert_exporter": "python",
   "pygments_lexer": "ipython3",
   "version": "3.9.13"
  }
 },
 "nbformat": 4,
 "nbformat_minor": 5
}
